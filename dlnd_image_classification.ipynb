{
 "cells": [
  {
   "cell_type": "markdown",
   "metadata": {
    "collapsed": true,
    "deletable": true,
    "editable": true
   },
   "source": [
    "# Image Classification\n",
    "In this project, you'll classify images from the [CIFAR-10 dataset](https://www.cs.toronto.edu/~kriz/cifar.html).  The dataset consists of airplanes, dogs, cats, and other objects. You'll preprocess the images, then train a convolutional neural network on all the samples. The images need to be normalized and the labels need to be one-hot encoded.  You'll get to apply what you learned and build a convolutional, max pooling, dropout, and fully connected layers.  At the end, you'll get to see your neural network's predictions on the sample images.\n",
    "## Get the Data\n",
    "Run the following cell to download the [CIFAR-10 dataset for python](https://www.cs.toronto.edu/~kriz/cifar-10-python.tar.gz)."
   ]
  },
  {
   "cell_type": "code",
   "execution_count": 1,
   "metadata": {
    "collapsed": false,
    "deletable": true,
    "editable": true
   },
   "outputs": [
    {
     "name": "stdout",
     "output_type": "stream",
     "text": [
      "All files found!\n"
     ]
    }
   ],
   "source": [
    "\"\"\"\n",
    "DON'T MODIFY ANYTHING IN THIS CELL THAT IS BELOW THIS LINE\n",
    "\"\"\"\n",
    "from urllib.request import urlretrieve\n",
    "from os.path import isfile, isdir\n",
    "from tqdm import tqdm\n",
    "import problem_unittests as tests\n",
    "import tarfile\n",
    "\n",
    "cifar10_dataset_folder_path = 'cifar-10-batches-py'\n",
    "\n",
    "# Use Floyd's cifar-10 dataset if present\n",
    "floyd_cifar10_location = '/input/cifar-10/python.tar.gz'\n",
    "if isfile(floyd_cifar10_location):\n",
    "    tar_gz_path = floyd_cifar10_location\n",
    "else:\n",
    "    tar_gz_path = 'cifar-10-python.tar.gz'\n",
    "\n",
    "class DLProgress(tqdm):\n",
    "    last_block = 0\n",
    "\n",
    "    def hook(self, block_num=1, block_size=1, total_size=None):\n",
    "        self.total = total_size\n",
    "        self.update((block_num - self.last_block) * block_size)\n",
    "        self.last_block = block_num\n",
    "\n",
    "if not isfile(tar_gz_path):\n",
    "    with DLProgress(unit='B', unit_scale=True, miniters=1, desc='CIFAR-10 Dataset') as pbar:\n",
    "        urlretrieve(\n",
    "            'https://www.cs.toronto.edu/~kriz/cifar-10-python.tar.gz',\n",
    "            tar_gz_path,\n",
    "            pbar.hook)\n",
    "\n",
    "if not isdir(cifar10_dataset_folder_path):\n",
    "    with tarfile.open(tar_gz_path) as tar:\n",
    "        tar.extractall()\n",
    "        tar.close()\n",
    "\n",
    "\n",
    "tests.test_folder_path(cifar10_dataset_folder_path)"
   ]
  },
  {
   "cell_type": "markdown",
   "metadata": {
    "deletable": true,
    "editable": true
   },
   "source": [
    "## Explore the Data\n",
    "The dataset is broken into batches to prevent your machine from running out of memory.  The CIFAR-10 dataset consists of 5 batches, named `data_batch_1`, `data_batch_2`, etc.. Each batch contains the labels and images that are one of the following:\n",
    "* airplane\n",
    "* automobile\n",
    "* bird\n",
    "* cat\n",
    "* deer\n",
    "* dog\n",
    "* frog\n",
    "* horse\n",
    "* ship\n",
    "* truck\n",
    "\n",
    "Understanding a dataset is part of making predictions on the data.  Play around with the code cell below by changing the `batch_id` and `sample_id`. The `batch_id` is the id for a batch (1-5). The `sample_id` is the id for a image and label pair in the batch.\n",
    "\n",
    "Ask yourself \"What are all possible labels?\", \"What is the range of values for the image data?\", \"Are the labels in order or random?\".  Answers to questions like these will help you preprocess the data and end up with better predictions."
   ]
  },
  {
   "cell_type": "code",
   "execution_count": 2,
   "metadata": {
    "collapsed": false,
    "deletable": true,
    "editable": true
   },
   "outputs": [
    {
     "name": "stdout",
     "output_type": "stream",
     "text": [
      "\n",
      "Stats of batch 5:\n",
      "Samples: 10000\n",
      "Label Counts: {0: 1014, 1: 1014, 2: 952, 3: 1016, 4: 997, 5: 1025, 6: 980, 7: 977, 8: 1003, 9: 1022}\n",
      "First 20 Labels: [1, 8, 5, 1, 5, 7, 4, 3, 8, 2, 7, 2, 0, 1, 5, 9, 6, 2, 0, 8]\n",
      "\n",
      "Example of Image 100:\n",
      "Image - Min Value: 5 Max Value: 255\n",
      "Image - Shape: (32, 32, 3)\n",
      "Label - Label Id: 9 Name: truck\n"
     ]
    },
    {
     "data": {
      "image/png": "[encoded data removed]",
      "text/plain": [
       "<matplotlib.figure.Figure at 0x7fd14484bac8>"
      ]
     },
     "metadata": {
      "image/png": {
       "height": 250,
       "width": 253
      }
     },
     "output_type": "display_data"
    }
   ],
   "source": [
    "%matplotlib inline\n",
    "%config InlineBackend.figure_format = 'retina'\n",
    "\n",
    "import helper\n",
    "import numpy as np\n",
    "\n",
    "# Explore the dataset\n",
    "batch_id = 5\n",
    "sample_id = 100\n",
    "helper.display_stats(cifar10_dataset_folder_path, batch_id, sample_id)"
   ]
  },
  {
   "cell_type": "markdown",
   "metadata": {
    "deletable": true,
    "editable": true
   },
   "source": [
    "## Implement Preprocess Functions\n",
    "### Normalize\n",
    "In the cell below, implement the `normalize` function to take in image data, `x`, and return it as a normalized Numpy array. The values should be in the range of 0 to 1, inclusive.  The return object should be the same shape as `x`."
   ]
  },
  {
   "cell_type": "code",
   "execution_count": 3,
   "metadata": {
    "collapsed": false,
    "deletable": true,
    "editable": true
   },
   "outputs": [
    {
     "name": "stdout",
     "output_type": "stream",
     "text": [
      "Tests Passed\n"
     ]
    }
   ],
   "source": [
    "def normalize(x):\n",
    "    \"\"\"\n",
    "    Normalize a list of sample image data in the range of 0 to 1\n",
    "    : x: List of image data.  The image shape is (32, 32, 3)\n",
    "    : return: Numpy array of normalize data\n",
    "    \"\"\"\n",
    "    # TODO: Implement Function\n",
    "    # so I know there are 128 pixels but dividing by that wasnt working so I did 2*128\n",
    "    return (x)/(256)\n",
    "\n",
    "\"\"\"\n",
    "DON'T MODIFY ANYTHING IN THIS CELL THAT IS BELOW THIS LINE\n",
    "\"\"\"\n",
    "tests.test_normalize(normalize)"
   ]
  },
  {
   "cell_type": "markdown",
   "metadata": {
    "deletable": true,
    "editable": true
   },
   "source": [
    "### One-hot encode\n",
    "Just like the previous code cell, you'll be implementing a function for preprocessing.  This time, you'll implement the `one_hot_encode` function. The input, `x`, are a list of labels.  Implement the function to return the list of labels as One-Hot encoded Numpy array.  The possible values for labels are 0 to 9. The one-hot encoding function should return the same encoding for each value between each call to `one_hot_encode`.  Make sure to save the map of encodings outside the function.\n",
    "\n",
    "Hint: Don't reinvent the wheel."
   ]
  },
  {
   "cell_type": "code",
   "execution_count": 4,
   "metadata": {
    "collapsed": false,
    "deletable": true,
    "editable": true
   },
   "outputs": [
    {
     "name": "stdout",
     "output_type": "stream",
     "text": [
      "Tests Passed\n"
     ]
    }
   ],
   "source": [
    "def one_hot_encode(x):\n",
    "    \"\"\"\n",
    "    One hot encode a list of sample labels. Return a one-hot encoded vector for each label.\n",
    "    : x: List of sample Labels\n",
    "    : return: Numpy array of one-hot encoded labels\n",
    "    \"\"\"\n",
    "    \n",
    "    # TODO: Implement Function\n",
    "    \n",
    "    #at first I thought I needed sklearn's preprocessing.LabelBinarizer() as it is used in lesson 7.14 but then\n",
    "    # I realized that I can just generate an array of zeros and feed the values as ones through the length of \n",
    "    #each label (used earlier modules in udacity course to find code that would help me with this):\n",
    "    one_hot_vec = np.zeros((len(x), 10))\n",
    "    for i in range(len(x)):\n",
    "        one_hot_vec[i,x[i]] = 1\n",
    "    return one_hot_vec\n",
    "    \n",
    "\n",
    "\n",
    "\"\"\"\n",
    "DON'T MODIFY ANYTHING IN THIS CELL THAT IS BELOW THIS LINE\n",
    "\"\"\"\n",
    "tests.test_one_hot_encode(one_hot_encode)"
   ]
  },
  {
   "cell_type": "markdown",
   "metadata": {
    "deletable": true,
    "editable": true
   },
   "source": [
    "# Randomize Data\n",
    "As you saw from exploring the data above, the order of the samples are randomized.  It doesn't hurt to randomize it again, but you don't need to for this dataset."
   ]
  },
  {
   "cell_type": "markdown",
   "metadata": {
    "deletable": true,
    "editable": true
   },
   "source": [
    "## Preprocess all the data and save it\n",
    "Running the code cell below will preprocess all the CIFAR-10 data and save it to file. The code below also uses 10% of the training data for validation."
   ]
  },
  {
   "cell_type": "code",
   "execution_count": 5,
   "metadata": {
    "collapsed": false,
    "deletable": true,
    "editable": true
   },
   "outputs": [],
   "source": [
    "\"\"\"\n",
    "DON'T MODIFY ANYTHING IN THIS CELL\n",
    "\"\"\"\n",
    "# Preprocess Training, Validation, and Testing Data\n",
    "helper.preprocess_and_save_data(cifar10_dataset_folder_path, normalize, one_hot_encode)"
   ]
  },
  {
   "cell_type": "markdown",
   "metadata": {
    "deletable": true,
    "editable": true
   },
   "source": [
    "# Check Point\n",
    "This is your first checkpoint.  If you ever decide to come back to this notebook or have to restart the notebook, you can start from here.  The preprocessed data has been saved to disk."
   ]
  },
  {
   "cell_type": "code",
   "execution_count": 6,
   "metadata": {
    "collapsed": true,
    "deletable": true,
    "editable": true
   },
   "outputs": [],
   "source": [
    "\"\"\"\n",
    "DON'T MODIFY ANYTHING IN THIS CELL\n",
    "\"\"\"\n",
    "import pickle\n",
    "import problem_unittests as tests\n",
    "import helper\n",
    "\n",
    "# Load the Preprocessed Validation data\n",
    "valid_features, valid_labels = pickle.load(open\n",
    "                                           ('preprocess_validation.p',mode='rb'))"
   ]
  },
  {
   "cell_type": "markdown",
   "metadata": {
    "deletable": true,
    "editable": true
   },
   "source": [
    "# Build the network\n",
    "For the neural network, you'll build each layer into a function.  Most of the code you've seen has been outside of functions. To test your code more thoroughly, we require that you put each layer in a function.  This allows us to give you better feedback and test for simple mistakes using our unittests before you submit your project.\n",
    "\n",
    ">**Note:** If you're finding it hard to dedicate enough time for this course each week, we've provided a small shortcut to this part of the project. In the next couple of problems, you'll have the option to use classes from the [TensorFlow Layers](https://www.tensorflow.org/api_docs/python/tf/layers) or [TensorFlow Layers (contrib)](https://www.tensorflow.org/api_guides/python/contrib.layers) packages to build each layer, except the layers you build in the \"Convolutional and Max Pooling Layer\" section.  TF Layers is similar to Keras's and TFLearn's abstraction to layers, so it's easy to pickup.\n",
    "\n",
    ">However, if you would like to get the most out of this course, try to solve all the problems _without_ using anything from the TF Layers packages. You **can** still use classes from other packages that happen to have the same name as ones you find in TF Layers! For example, instead of using the TF Layers version of the `conv2d` class, [tf.layers.conv2d](https://www.tensorflow.org/api_docs/python/tf/layers/conv2d), you would want to use the TF Neural Network version of `conv2d`, [tf.nn.conv2d](https://www.tensorflow.org/api_docs/python/tf/nn/conv2d). \n",
    "\n",
    "Let's begin!\n",
    "\n",
    "### Input\n",
    "The neural network needs to read the image data, one-hot encoded labels, and dropout keep probability. Implement the following functions\n",
    "* Implement `neural_net_image_input`\n",
    " * Return a [TF Placeholder](https://www.tensorflow.org/api_docs/python/tf/placeholder)\n",
    " * Set the shape using `image_shape` with batch size set to `None`.\n",
    " * Name the TensorFlow placeholder \"x\" using the TensorFlow `name` parameter in the [TF Placeholder](https://www.tensorflow.org/api_docs/python/tf/placeholder).\n",
    "* Implement `neural_net_label_input`\n",
    " * Return a [TF Placeholder](https://www.tensorflow.org/api_docs/python/tf/placeholder)\n",
    " * Set the shape using `n_classes` with batch size set to `None`.\n",
    " * Name the TensorFlow placeholder \"y\" using the TensorFlow `name` parameter in the [TF Placeholder](https://www.tensorflow.org/api_docs/python/tf/placeholder).\n",
    "* Implement `neural_net_keep_prob_input`\n",
    " * Return a [TF Placeholder](https://www.tensorflow.org/api_docs/python/tf/placeholder) for dropout keep probability.\n",
    " * Name the TensorFlow placeholder \"keep_prob\" using the TensorFlow `name` parameter in the [TF Placeholder](https://www.tensorflow.org/api_docs/python/tf/placeholder).\n",
    "\n",
    "These names will be used at the end of the project to load your saved model.\n",
    "\n",
    "Note: `None` for shapes in TensorFlow allow for a dynamic size."
   ]
  },
  {
   "cell_type": "code",
   "execution_count": 7,
   "metadata": {
    "collapsed": false,
    "deletable": true,
    "editable": true
   },
   "outputs": [
    {
     "name": "stdout",
     "output_type": "stream",
     "text": [
      "Image Input Tests Passed.\n",
      "Label Input Tests Passed.\n",
      "Keep Prob Tests Passed.\n"
     ]
    }
   ],
   "source": [
    "import tensorflow as tf\n",
    "\n",
    "def neural_net_image_input(image_shape):\n",
    "    \"\"\"\n",
    "    Return a Tensor for a batch of image input\n",
    "    : image_shape: Shape of the images\n",
    "    : return: Tensor for image input.\n",
    "    \"\"\"\n",
    "    # TODO: Implement Function\n",
    "    # Placeholder syntax:  tf.placeholder(dtype, shape=None, name=None) \n",
    "    # we cannot just feed image_shape because it has the wrong shape: we need a batch term first...\n",
    "    #t o set batch as none as it asks we have to concatenate [None] with image_shape and to do that\n",
    "    # we have to turn image_shape into a list to concatenate b/c you can't do it with a tuple\n",
    "    # print (image_shape)\n",
    "    # (error) print ([None]+image_shape)\n",
    "    # print ([None]+list(image_shape))\n",
    "    \n",
    "    return tf.placeholder(tf.float32, \n",
    "                          [None]+list(image_shape),\n",
    "                          \"x\")\n",
    "\n",
    "\n",
    "def neural_net_label_input(n_classes):\n",
    "    \"\"\"\n",
    "    Return a Tensor for a batch of label input\n",
    "    : n_classes: Number of classes\n",
    "    : return: Tensor for label input.\n",
    "    \"\"\"\n",
    "    # TODO: Implement Function\n",
    "    # for this, we want the shape to be [open to whatever # of rows, then the classes (10) but Im supposed to use the variable ]\n",
    "    return tf.placeholder(tf.float32,\n",
    "                          [None,n_classes],\n",
    "                          \"y\")\n",
    "\n",
    "\n",
    "def neural_net_keep_prob_input():\n",
    "    \"\"\"\n",
    "    Return a Tensor for keep probability\n",
    "    : return: Tensor for keep probability.\n",
    "    \"\"\"\n",
    "    # TODO: Implement Function\n",
    "    return tf.placeholder(tf.float32,\n",
    "                          None,\n",
    "                          \"keep_prob\")\n",
    "\n",
    "\n",
    "\"\"\"\n",
    "DON'T MODIFY ANYTHING IN THIS CELL THAT IS BELOW THIS LINE\n",
    "\"\"\"\n",
    "tf.reset_default_graph()\n",
    "tests.test_nn_image_inputs(neural_net_image_input)\n",
    "tests.test_nn_label_inputs(neural_net_label_input)\n",
    "tests.test_nn_keep_prob_inputs(neural_net_keep_prob_input)"
   ]
  },
  {
   "cell_type": "markdown",
   "metadata": {
    "deletable": true,
    "editable": true
   },
   "source": [
    "### Convolution and Max Pooling Layer\n",
    "Convolution layers have a lot of success with images. For this code cell, you should implement the function `conv2d_maxpool` to apply\n",
    "convolution then max pooling:\n",
    "* Create the weight and bias using `conv_ksize`, `conv_num_outputs` and the shape of `x_tensor`.\n",
    "* Apply a convolution to `x_tensor` using weight and `conv_strides`.\n",
    "* We recommend you use same padding, but you're welcome to use any padding.\n",
    "* Add bias\n",
    "* Add a nonlinear activation to the convolution.\n",
    "* Apply Max Pooling using `pool_ksize` and `pool_strides`.\n",
    "* We recommend you use same padding, but you're welcome to use any padding.\n",
    "\n",
    "**Note:** You **can't** use [TensorFlow Layers](https://www.tensorflow.org/api_docs/python/tf/layers) or [TensorFlow Layers (contrib)](https://www.tensorflow.org/api_guides/python/contrib.layers) for **this** layer, but you can still use TensorFlow's [Neural Network](https://www.tensorflow.org/api_docs/python/tf/nn) package. You may still use the shortcut option for all the **other** layers."
   ]
  },
  {
   "cell_type": "code",
   "execution_count": 8,
   "metadata": {
    "collapsed": false,
    "deletable": true,
    "editable": true
   },
   "outputs": [
    {
     "name": "stdout",
     "output_type": "stream",
     "text": [
      "Tensor(\"Shape:0\", shape=(4,), dtype=int32)\n",
      "(?, 32, 32, 5)\n",
      "[None, 32, 32, 5]\n",
      "[2, 2]\n",
      "10\n",
      "[2, 2, 5, 10]\n",
      "(4, 4)\n",
      "[1, 4, 4, 1]\n",
      "(2, 2)\n",
      "[None, 4, 4, 10]\n",
      "Tests Passed\n"
     ]
    }
   ],
   "source": [
    "\n",
    "def conv2d_maxpool(x_tensor, conv_num_outputs, conv_ksize, conv_strides, pool_ksize, pool_strides):\n",
    "    \"\"\"\n",
    "    Apply convolution then max pooling to x_tensor\n",
    "    :param x_tensor: TensorFlow Tensor\n",
    "    :param conv_num_outputs: Number of outputs for the convolutional layer\n",
    "    :param conv_ksize: kernal size 2-D Tuple for the convolutional layer\n",
    "    :param conv_strides: Stride 2-D Tuple for convolution\n",
    "    :param pool_ksize: kernal size 2-D Tuple for pool\n",
    "    :param pool_strides: Stride 2-D Tuple for pool\n",
    "    : return: A tensor that represents convolution and max pooling of x_tensor\n",
    "    \"\"\"\n",
    "    # Because it reccommends using same padding for all following parts of function, I declare this up top\n",
    "    padding='SAME'\n",
    "\n",
    "    # I need to implement weights, but I want to see the shapes of the variables I will be using:\n",
    "    # I tried to use the np.shape() and tf.shape() command, but the .get_shape().as_list() is really helpful here\n",
    "    # I also know from the course that I want to wrap everything in a tf.Variable, although I am not 100% on why...\n",
    " \n",
    "    # Implementing the bias for this layer, we just create a matrix with 0 for each of the output nodes\n",
    "    bias_conv=tf.Variable(tf.zeros(conv_num_outputs))\n",
    "    \n",
    "    # Implementing the weights for this layer, we use tf's truncated_normal to sample random values from a \n",
    "    # truncated normal distribution to apply as the weights for this layer which will then be updated\n",
    "    # through backpropogation. This has the syntax: tf.truncated_normal(shape, mean=, stddev=, dtype=tf.float32)\n",
    "    \n",
    "    # The shape for this tensor of weights should be (conv_ksize, depth of x_tensor, conv_num_outputs) where conv_ksize\n",
    "    #is a tuple, the depth must be taken by looking at the shape of x_tensor, and conv_num_outputs is a number:\n",
    "    \n",
    "    # I need a separate x_shape with the shape of x_tensor as a list to get the depth value out\n",
    "    print(tf.shape(x_tensor))\n",
    "    print(np.shape(x_tensor))\n",
    "    # It did not work when I at first just tried to use tf/np.shape and I wasn't quite sure about why...\n",
    "    # I think it must have to do with the fact that the np command returns (?...)\n",
    "    # it returned and that seemed to mess up the tests so I found a .get_shape().as_list() workaround:\n",
    "    print(x_tensor.get_shape().as_list())\n",
    "    x_shape=x_tensor.get_shape().as_list()\n",
    "    print(list(conv_ksize))\n",
    "    print(conv_num_outputs)\n",
    "    \n",
    "    # Now we can finally construct the shape by appending tupples\n",
    "    # Note that the commas seem to really matter when making the list and for some reason\n",
    "    # it only works when I have a comma after conv_num_outputs as well as the other terms which is weird to me...?\n",
    "    # Also, it is important to remember to choose the right part of x_shape as numbering starts at 0 and I want \n",
    "    # the fourth term in the list\n",
    "    w_conv_shape= list(conv_ksize+(x_shape[3],)+(conv_num_outputs,))\n",
    "    print(w_conv_shape)\n",
    "    \n",
    "    # I know we want the weights to be distributed around mean zero but I wasnt sure how to pick the stddev\n",
    "    # I found this https://www.tensorflow.org/get_started/mnist/pros which set it to 0.1 so I chose that\n",
    "    weights_conv=tf.Variable(tf.truncated_normal((w_conv_shape),0.0,0.1))\n",
    "    \n",
    "    # Next, I must make apply a convolution to x_tensor using weight and conv_strides (same padding recommended)\n",
    "    # to do this I can use tf.nn.conv2d(input, filter, strides, padding) which on the tensorflow syntax website it \n",
    "    # specifies that \"for the most common case of the same horizontal and vertical strides, strides=[1,stride,stride,1]\"\n",
    "    # I can do this easily by concetanating because conv_strides is in a list already and I just need to add\n",
    "    # a one before and after. Commas also matter here again.\n",
    "    \n",
    "    print(conv_strides)\n",
    "    strides=(list((1,)+conv_strides+(1,)))\n",
    "    # not right: strides=np.array([1,conv_strides,1])\n",
    "    print(strides)\n",
    "    \n",
    "    conv_layer=tf.nn.conv2d(x_tensor,\n",
    "                            weights_conv,\n",
    "                            strides,padding)\n",
    "    \n",
    "    # Add bias with tf.nn.bias_add(value, bias, *data_format, *name) *=optional\n",
    "    # this is pretty straitforward :)\n",
    "    conv_layer_bias=tf.nn.bias_add(conv_layer,\n",
    "                                   bias_conv)\n",
    "    \n",
    "    # Add a nonlinear activation to the convolution-> I am going to use ReLU because it seems standard for convolutional\n",
    "    # classification networks with softmax as the output activation function. \n",
    "    # The syntax is straitforward again; tf.nn.relu(features,*name)\n",
    "    conv_layer_activated=tf.nn.relu(conv_layer_bias)\n",
    "    \n",
    "    # Apply Max Pooling using pool_ksize and pool_strides(same padding recommended)\n",
    "    # To do this I will use tf.nn.max_pool(value,ksize, strides, padding) but here we will have to do the same thing\n",
    "    # to pool_ksize as we did for strides for it must have length >=4 like the TF website says...\n",
    "    # I made a little function to do this but idk if thats the most efficient\n",
    "    \n",
    "    print(pool_ksize)\n",
    "    def four_long(variable):\n",
    "        return [1]+ list(variable)+[1]\n",
    "    \n",
    "    convmax_layer = tf.nn.max_pool(conv_layer_activated,\n",
    "                                   four_long(pool_ksize),\n",
    "                                   four_long(pool_strides),\n",
    "                                   padding)\n",
    "            \n",
    "    print(convmax_layer.get_shape().as_list())\n",
    "    return convmax_layer\n",
    "    \n",
    " \n",
    "'''\n",
    "DON'T MODIFY ANYTHING IN THIS CELL THAT IS BELOW THIS LINE\n",
    "'''\n",
    "tests.test_con_pool(conv2d_maxpool)"
   ]
  },
  {
   "cell_type": "markdown",
   "metadata": {
    "deletable": true,
    "editable": true
   },
   "source": [
    "### Flatten Layer\n",
    "Implement the `flatten` function to change the dimension of `x_tensor` from a 4-D tensor to a 2-D tensor.  The output should be the shape (*Batch Size*, *Flattened Image Size*). Shortcut option: you can use classes from the [TensorFlow Layers](https://www.tensorflow.org/api_docs/python/tf/layers) or [TensorFlow Layers (contrib)](https://www.tensorflow.org/api_guides/python/contrib.layers) packages for this layer. For more of a challenge, only use other TensorFlow packages."
   ]
  },
  {
   "cell_type": "code",
   "execution_count": 9,
   "metadata": {
    "collapsed": false,
    "deletable": true,
    "editable": true
   },
   "outputs": [
    {
     "name": "stdout",
     "output_type": "stream",
     "text": [
      "[None, 10, 30, 6]\n",
      "1800\n",
      "Tests Passed\n"
     ]
    }
   ],
   "source": [
    "def flatten(x_tensor):\n",
    "    \"\"\"\n",
    "    Flatten x_tensor to (Batch Size, Flattened Image Size)\n",
    "    : x_tensor: A tensor of size (Batch Size, ...), where ... are the image dimensions.\n",
    "    : return: A tensor of size (Batch Size, Flattened Image Size).\n",
    "    \"\"\"\n",
    "    # TODO: Implement Function\n",
    "    # I can use tf.reshape(tensor,shape) and the .tf_shape().as_list command again\n",
    "    x_shape = x_tensor.get_shape().as_list()\n",
    "    print(x_shape)\n",
    "    \n",
    "    # But here we want to reshape such that shape=product of all the dimensions \n",
    "    # of the tensor besides the first value (# of rows) so I can just \n",
    "    # multiply all of the items in the shape list except for the first:\n",
    "    \n",
    "    flatten_shape=(x_shape[1]*x_shape[2]*x_shape[3])\n",
    "    print(flatten_shape)\n",
    "    \n",
    "    # But we want to flatten into the dimensions [-1,flatten_shape] Don't totally understand the -1 still...\n",
    "    # I used this for help: http://stackoverflow.com/questions/36668542/flatten-batch-in-tensorflow\n",
    "    return tf.reshape(x_tensor,[-1,flatten_shape])\n",
    "\n",
    "\n",
    "\n",
    "\"\"\"\n",
    "DON'T MODIFY ANYTHING IN THIS CELL THAT IS BELOW THIS LINE\n",
    "\"\"\"\n",
    "tests.test_flatten(flatten)"
   ]
  },
  {
   "cell_type": "markdown",
   "metadata": {
    "deletable": true,
    "editable": true
   },
   "source": [
    "### Fully-Connected Layer\n",
    "Implement the `fully_conn` function to apply a fully connected layer to `x_tensor` with the shape (*Batch Size*, *num_outputs*). Shortcut option: you can use classes from the [TensorFlow Layers](https://www.tensorflow.org/api_docs/python/tf/layers) or [TensorFlow Layers (contrib)](https://www.tensorflow.org/api_guides/python/contrib.layers) packages for this layer. For more of a challenge, only use other TensorFlow packages."
   ]
  },
  {
   "cell_type": "code",
   "execution_count": 10,
   "metadata": {
    "collapsed": false,
    "deletable": true,
    "editable": true
   },
   "outputs": [
    {
     "name": "stdout",
     "output_type": "stream",
     "text": [
      "[None, 128]\n",
      "[128, 40]\n",
      "Tests Passed\n"
     ]
    }
   ],
   "source": [
    "def fully_conn(x_tensor, num_outputs):\n",
    "    \"\"\"\n",
    "    Apply a fully connected layer to x_tensor using weight and bias\n",
    "    : x_tensor: A 2-D tensor where the first dimension is batch size.\n",
    "    : num_outputs: The number of output that the new tensor should be.\n",
    "    : return: A 2-D tensor where the second dimension is num_outputs.\n",
    "    \"\"\"\n",
    "    # TODO: Implement Function\n",
    "    # using the nifty .get_shape().as_list() agian :) and mindful of commas which I \n",
    "    #keep messing up to keep everything in lists to deal with the type BS\n",
    "    print((x_tensor.get_shape().as_list()))   \n",
    "    conn_shape = list((x_tensor.get_shape().as_list()[1],) + (num_outputs,))\n",
    "    print(conn_shape)\n",
    "    \n",
    "    #Again, wasnt sure but truncated to 0.1 like I did previously from reading that TF example\n",
    "    conn_weight = tf.Variable(tf.truncated_normal(conn_shape,0,0.1))\n",
    "    \n",
    "    # Same as last time basically\n",
    "    conn_bias = tf.Variable(tf.zeros(num_outputs))\n",
    "    \n",
    "    # Now I just want to apply the weights and bias with the ReLU function as well as tf.matmul and tf.add\n",
    "    conn_layer=tf.matmul(x_tensor, conn_weight)\n",
    "    fully_conn_layer=tf.add(conn_layer,conn_bias)\n",
    "    \n",
    "    # Dope, dope, dope that was easier than I thought it would be\n",
    "    return tf.nn.relu(fully_conn_layer)\n",
    "    \n",
    "\n",
    "\"\"\"\n",
    "DON'T MODIFY ANYTHING IN THIS CELL THAT IS BELOW THIS LINE\n",
    "\"\"\"\n",
    "tests.test_fully_conn(fully_conn)"
   ]
  },
  {
   "cell_type": "markdown",
   "metadata": {
    "deletable": true,
    "editable": true
   },
   "source": [
    "### Output Layer\n",
    "Implement the `output` function to apply a fully connected layer to `x_tensor` with the shape (*Batch Size*, *num_outputs*). Shortcut option: you can use classes from the [TensorFlow Layers](https://www.tensorflow.org/api_docs/python/tf/layers) or [TensorFlow Layers (contrib)](https://www.tensorflow.org/api_guides/python/contrib.layers) packages for this layer. For more of a challenge, only use other TensorFlow packages.\n",
    "\n",
    "**Note:** Activation, softmax, or cross entropy should **not** be applied to this."
   ]
  },
  {
   "cell_type": "code",
   "execution_count": 11,
   "metadata": {
    "collapsed": false,
    "deletable": true,
    "editable": true
   },
   "outputs": [
    {
     "name": "stdout",
     "output_type": "stream",
     "text": [
      "[None, 128]\n",
      "[128, 40]\n",
      "Tests Passed\n"
     ]
    }
   ],
   "source": [
    "def output(x_tensor, num_outputs):\n",
    "    \"\"\"\n",
    "    Apply a output layer to x_tensor using weight and bias\n",
    "    : x_tensor: A 2-D tensor where the first dimension is batch size.\n",
    "    : num_outputs: The number of output that the new tensor should be.\n",
    "    : return: A 2-D tensor where the second dimension is num_outputs.\n",
    "    \"\"\"\n",
    "    # TODO: Implement Function\n",
    "    # just looking at shapes again :), going to do same as before\n",
    "    print((x_tensor.get_shape().as_list()))\n",
    "    output_shape = list((x_tensor.get_shape().as_list()[1],) + (num_outputs,))\n",
    "    print(output_shape)\n",
    "    \n",
    "    #Again, wasnt sure but truncated to .1 like I did previously :|\n",
    "    \n",
    "    output_weight = tf.Variable(tf.truncated_normal(output_shape,0,.1))\n",
    "    \n",
    "    # Same as last time basically\n",
    "    output_bias = tf.Variable(tf.zeros(num_outputs))\n",
    "    \n",
    "    # Now I just want to apply the weights and bias with tf.matmul and tf.add\n",
    "    weighted_output=tf.matmul(x_tensor, output_weight)\n",
    "    return tf.add(weighted_output,output_bias)\n",
    "\n",
    "\n",
    "\"\"\"\n",
    "DON'T MODIFY ANYTHING IN THIS CELL THAT IS BELOW THIS LINE\n",
    "\"\"\"\n",
    "tests.test_output(output)"
   ]
  },
  {
   "cell_type": "markdown",
   "metadata": {
    "deletable": true,
    "editable": true
   },
   "source": [
    "### Create Convolutional Model\n",
    "Implement the function `conv_net` to create a convolutional neural network model. The function takes in a batch of images, `x`, and outputs logits.  Use the layers you created above to create this model:\n",
    "\n",
    "* Apply 1, 2, or 3 Convolution and Max Pool layers\n",
    "* Apply a Flatten Layer\n",
    "* Apply 1, 2, or 3 Fully Connected Layers\n",
    "* Apply an Output Layer\n",
    "* Return the output\n",
    "* Apply [TensorFlow's Dropout](https://www.tensorflow.org/api_docs/python/tf/nn/dropout) to one or more layers in the model using `keep_prob`. "
   ]
  },
  {
   "cell_type": "code",
   "execution_count": 12,
   "metadata": {
    "collapsed": false,
    "deletable": true,
    "editable": true
   },
   "outputs": [
    {
     "name": "stdout",
     "output_type": "stream",
     "text": [
      "Tensor(\"Shape:0\", shape=(4,), dtype=int32)\n",
      "(?, 32, 32, 3)\n",
      "[None, 32, 32, 3]\n",
      "[4, 4]\n",
      "24\n",
      "[4, 4, 3, 24]\n",
      "(1, 1)\n",
      "[1, 1, 1, 1]\n",
      "(2, 2)\n",
      "[None, 32, 32, 24]\n",
      "Tensor(\"Shape_1:0\", shape=(4,), dtype=int32)\n",
      "(?, 32, 32, 24)\n",
      "[None, 32, 32, 24]\n",
      "[2, 2]\n",
      "12\n",
      "[2, 2, 24, 12]\n",
      "(1, 1)\n",
      "[1, 1, 1, 1]\n",
      "(8, 8)\n",
      "[None, 32, 32, 12]\n",
      "[None, 32, 32, 12]\n",
      "12288\n",
      "[None, 12288]\n",
      "[12288, 256]\n",
      "[None, 256]\n",
      "[256, 128]\n",
      "[None, 128]\n",
      "[128, 10]\n",
      "Tensor(\"Shape_5:0\", shape=(4,), dtype=int32)\n",
      "(?, 32, 32, 3)\n",
      "[None, 32, 32, 3]\n",
      "[4, 4]\n",
      "24\n",
      "[4, 4, 3, 24]\n",
      "(1, 1)\n",
      "[1, 1, 1, 1]\n",
      "(2, 2)\n",
      "[None, 32, 32, 24]\n",
      "Tensor(\"Shape_6:0\", shape=(4,), dtype=int32)\n",
      "(?, 32, 32, 24)\n",
      "[None, 32, 32, 24]\n",
      "[2, 2]\n",
      "12\n",
      "[2, 2, 24, 12]\n",
      "(1, 1)\n",
      "[1, 1, 1, 1]\n",
      "(8, 8)\n",
      "[None, 32, 32, 12]\n",
      "[None, 32, 32, 12]\n",
      "12288\n",
      "[None, 12288]\n",
      "[12288, 256]\n",
      "[None, 256]\n",
      "[256, 128]\n",
      "[None, 128]\n",
      "[128, 10]\n",
      "Neural Network Built!\n"
     ]
    }
   ],
   "source": [
    "def conv_net(x, keep_prob):\n",
    "    \"\"\"\n",
    "    Create a convolutional neural network model\n",
    "    : x: Placeholder tensor that holds image data.\n",
    "    : keep_prob: Placeholder tensor that hold dropout keep probability.\n",
    "    : return: Tensor that represents logits\n",
    "    \"\"\"\n",
    "    # TODO: Apply 1, 2, or 3 Convolution and Max Pool layers\n",
    "    # Play around with different number of outputs, kernel size and stride\n",
    "    # Function Definition from Above:\n",
    "    conv_model=conv2d_maxpool(x, \n",
    "                              conv_num_outputs=24, \n",
    "                              conv_ksize=(4,4), \n",
    "                              conv_strides=(1,1), \n",
    "                              pool_ksize=(2,2), \n",
    "                              pool_strides=(1,1))\n",
    "    conv_model_2=conv2d_maxpool(conv_model, \n",
    "                              conv_num_outputs=12, \n",
    "                              conv_ksize=(2,2), \n",
    "                              conv_strides=(1,1), \n",
    "                              pool_ksize=(8,8), \n",
    "                              pool_strides=(1,1))\n",
    "    '''conv_model_3=conv2d_maxpool(conv_model, \n",
    "                              conv_num_outputs=30, \n",
    "                              conv_ksize=(2,2), \n",
    "                              conv_strides=(1,1), \n",
    "                              pool_ksize=(2,2), \n",
    "                              pool_strides=(1,1))'''\n",
    "    \n",
    "    conv_model_4 = tf.nn.dropout(conv_model_2, keep_prob)\n",
    "    \n",
    "    # TODO: Apply a Flatten Layer\n",
    "    # Function Definition from Above:\n",
    "    #   flatten(x_tensor)\n",
    "    flattened_model = flatten(conv_model_4)\n",
    "\n",
    "    # TODO: Apply 1, 2, or 3 Fully Connected Layers\n",
    "    # Play around with different number of outputs\n",
    "    # Function Definition from Above:\n",
    "    # fully_conn(x_tensor, num_outputs)\n",
    "    \n",
    "    connected_model = fully_conn(flattened_model,256)\n",
    "    connected_model_2 = fully_conn(connected_model,128)\n",
    "    \n",
    "    # I messed up and accidentally did the connected_model_2 as the final model below \n",
    "    # at first and got all these really weird errors saying that I was overloading or something\n",
    "    # with a layer of [50000, 32, 32, 3] or something and then I realized I had basically \n",
    "    # skipped dropout.... lesson: DROPOUT IS SUPER IMPORTANT\n",
    "    model = tf.nn.dropout(connected_model_2, keep_prob)\n",
    "    \n",
    "    # TODO: Apply an Output Layer\n",
    "    # Set this to the number of classes\n",
    "    # Function Definition from Above:\n",
    "    # output(x_tensor, num_outputs)\n",
    "    \n",
    "    '''At first I kept getting an error where my model was returning [None, ...]\n",
    "    at some points... I am not sure what exactly was happening as it was layering,\n",
    "    but I do know that there are 10 classes that we have as output options. I forgot\n",
    "    to set num_outputs to 10 at first and just chose random nubmers and this was \n",
    "    what had caused that error to occur'''\n",
    "    \n",
    "    final_model = output(model,10)\n",
    "    \n",
    "    # TODO: return output\n",
    "    return final_model\n",
    "\n",
    "\n",
    "\"\"\"\n",
    "DON'T MODIFY ANYTHING IN THIS CELL THAT IS BELOW THIS LINE\n",
    "\"\"\"\n",
    "\n",
    "##############################\n",
    "## Build the Neural Network ##\n",
    "##############################\n",
    "\n",
    "# Remove previous weights, bias, inputs, etc..\n",
    "tf.reset_default_graph()\n",
    "\n",
    "# Inputs\n",
    "x = neural_net_image_input((32, 32, 3))\n",
    "y = neural_net_label_input(10)\n",
    "keep_prob = neural_net_keep_prob_input()\n",
    "\n",
    "# Model\n",
    "logits = conv_net(x, keep_prob)\n",
    "\n",
    "# Name logits Tensor, so that is can be loaded from disk after training\n",
    "logits = tf.identity(logits, name='logits')\n",
    "\n",
    "# Loss and Optimizer\n",
    "cost = tf.reduce_mean(tf.nn.softmax_cross_entropy_with_logits(logits=logits, labels=y))\n",
    "optimizer = tf.train.AdamOptimizer().minimize(cost)\n",
    "\n",
    "# Accuracy\n",
    "correct_pred = tf.equal(tf.argmax(logits, 1), tf.argmax(y, 1))\n",
    "accuracy = tf.reduce_mean(tf.cast(correct_pred, tf.float32), name='accuracy')\n",
    "\n",
    "tests.test_conv_net(conv_net)"
   ]
  },
  {
   "cell_type": "markdown",
   "metadata": {
    "deletable": true,
    "editable": true
   },
   "source": [
    "## Train the Neural Network\n",
    "### Single Optimization\n",
    "Implement the function `train_neural_network` to do a single optimization.  The optimization should use `optimizer` to optimize in `session` with a `feed_dict` of the following:\n",
    "* `x` for image input\n",
    "* `y` for labels\n",
    "* `keep_prob` for keep probability for dropout\n",
    "\n",
    "This function will be called for each batch, so `tf.global_variables_initializer()` has already been called.\n",
    "\n",
    "Note: Nothing needs to be returned. This function is only optimizing the neural network."
   ]
  },
  {
   "cell_type": "code",
   "execution_count": 13,
   "metadata": {
    "collapsed": false,
    "deletable": true,
    "editable": true
   },
   "outputs": [
    {
     "name": "stdout",
     "output_type": "stream",
     "text": [
      "Tests Passed\n"
     ]
    }
   ],
   "source": [
    "def train_neural_network(session, optimizer, keep_probability, feature_batch, label_batch):\n",
    "    \"\"\"\n",
    "    Optimize the session on a batch of images and labels\n",
    "    : session: Current TensorFlow session\n",
    "    : optimizer: TensorFlow optimizer function\n",
    "    : keep_probability: keep probability\n",
    "    : feature_batch: Batch of Numpy image data\n",
    "    : label_batch: Batch of Numpy label data\n",
    "    \"\"\"\n",
    "    # TODO: Implement Function\n",
    "    # Okay, so this is where the session.run command that we have been using in Udacity\n",
    "    # comes into play. It is simple, just important to get the feed_dict syntax right\n",
    "    # I am sure later we will define the whole session as sess to run but this \n",
    "    # is just an intermediary optimization step. I am curious if I could use a different optimizer?...\n",
    "    session.run(optimizer,feed_dict={x:feature_batch, \n",
    "                                     y:label_batch, \n",
    "                                     keep_prob:keep_probability})\n",
    "\n",
    "\n",
    "\"\"\"\n",
    "DON'T MODIFY ANYTHING IN THIS CELL THAT IS BELOW THIS LINE\n",
    "\"\"\"\n",
    "tests.test_train_nn(train_neural_network)"
   ]
  },
  {
   "cell_type": "markdown",
   "metadata": {
    "deletable": true,
    "editable": true
   },
   "source": [
    "### Show Stats\n",
    "Implement the function `print_stats` to print loss and validation accuracy.  Use the global variables `valid_features` and `valid_labels` to calculate validation accuracy.  Use a keep probability of `1.0` to calculate the loss and validation accuracy."
   ]
  },
  {
   "cell_type": "code",
   "execution_count": 14,
   "metadata": {
    "collapsed": false,
    "deletable": true,
    "editable": true
   },
   "outputs": [],
   "source": [
    "def print_stats(session, feature_batch, label_batch, cost, accuracy):\n",
    "    \"\"\"\n",
    "    Print information about loss and validation accuracy\n",
    "    : session: Current TensorFlow session\n",
    "    : feature_batch: Batch of Numpy image data\n",
    "    : label_batch: Batch of Numpy label data\n",
    "    : cost: TensorFlow cost function\n",
    "    : accuracy: TensorFlow accuracy function\n",
    "    \"\"\"\n",
    "    # First, I have to make a loss function to print using session.run again \n",
    "    # and the cost fn from tensorflow, plus my x and y and a keep_prob that I set to 1 \n",
    "    # because shit wasnt working when I had it at keep_probability and I dont want to disregard\n",
    "    # stuff I don't think....?\n",
    "    \n",
    "    '''Note: I tried using keep_prob:keep_probability but then I got an error when\n",
    "    trying to train on a slice so I just set the keep prob to 1  and it worked...'''\n",
    "    \n",
    "    model_loss = session.run(cost,feed_dict=\n",
    "                             {x:feature_batch,\n",
    "                              y:label_batch,\n",
    "                              keep_prob:1})\n",
    "    #print(model_loss)\n",
    "    \n",
    "\n",
    "    # Now, I do the same thing with validation accuracy:\n",
    "    model_validation_acc=sess.run(accuracy,feed_dict=\n",
    "                                  {x: valid_features,\n",
    "                                   y: valid_labels,\n",
    "                                   keep_prob:1})\n",
    "    \n",
    "    #print(model_validation_acc)\n",
    "    \n",
    "    # OK, so now these two calculations will return numbers but we really want them as\n",
    "    # percentage floats, so we can use the f conversion type argument {field_name:conversion}\n",
    "    # with the .format capability. Also, there are handy formatting tricks to use\n",
    "    # where < left - aligns, ^ centers, and > right aligns and putting numbers before \n",
    "    # the decimal (x in example syntax below) adds spaces to the field and putting numbers\n",
    "    # after the decimal (in place of y) limits the decimal places that will print by that many\n",
    "    # {: x.yf} --> so print(\"I would walk{0:^7.0f}miles\".format(500.555))\n",
    "    # will return: I would walk  500  miles\n",
    "    # I first did:print('Loss: {:.5f}'.format(model_loss))\n",
    "    # print('Validation Accuracy: '{:.5f}.format(model_validation_acc))\n",
    "    # But it looks better to have less decimals and put them on the same line with:\n",
    "    \n",
    "    print('Loss= {:.3f} Validation Accuracy= {:.3f}'.format(model_loss,model_validation_acc))\n",
    "\n",
    "    \n",
    "    # I tried using 0: and 1: at first, but then got an error that it could not\n",
    "    # switch from automatic to manual numbering and I figured out it worked if I just\n",
    "    # set no value for the position... look here for more info: https://www.digitalocean.com/community/tutorials/how-to-use-string-formatters-in-python-3\n",
    "    \n"
   ]
  },
  {
   "cell_type": "markdown",
   "metadata": {
    "deletable": true,
    "editable": true
   },
   "source": [
    "### Hyperparameters\n",
    "Tune the following parameters:\n",
    "* Set `epochs` to the number of iterations until the network stops learning or start overfitting\n",
    "* Set `batch_size` to the highest number that your machine has memory for.  Most people set them to common sizes of memory:\n",
    " * 64\n",
    " * 128\n",
    " * 256\n",
    " * ...\n",
    "* Set `keep_probability` to the probability of keeping a node using dropout"
   ]
  },
  {
   "cell_type": "code",
   "execution_count": 15,
   "metadata": {
    "collapsed": false,
    "deletable": true,
    "editable": true
   },
   "outputs": [
    {
     "data": {
      "text/plain": [
       "'TUNING PROCESS:\\nepochs =10\\nbatch_size =256\\nkeep_probability=.5--->\\nprelim training: Epoch 10, CIFAR-10 Batch 1:  Loss= 0.929 Validation Accuracy= 0.478\\n\\nepochs =100\\nbatch_size =256\\nkeep_probability=.5\\nprelim trainig: Epoch 100, CIFAR-10 Batch 1:  Loss= 0.002 Validation Accuracy= 0.602\\n\\n*** Seemed like around 75 epochs the validation stopped improving and just edged around 60% \\nin the PRELIM training sets, so then I started to play with the keep probability more\\n\\nepochs =75\\nbatch_size =256\\nkeep_probability=.75\\nprelim training: Epoch 75, CIFAR-10 Batch 1:  Loss= 0.001 Validation Accuracy= 0.568\\n\\nepochs =75\\nbatch_size =256\\nkeep_probability=.25\\nprelim training: Epoch 75, CIFAR-10 Batch 1:  Loss= 0.056 Validation Accuracy= 0.624\\n\\nepochs =75\\nbatch_size =256\\nkeep_probability=.1\\nprelim training: Epoch 75, CIFAR-10 Batch 1:  Loss= 1.547 Validation Accuracy= 0.380\\n\\n*** This seemed good enough, and all of this training was taking a long time \\nby the time I fiddled around with adding and changing values in different layers\\nso once I got to this point I trained the whole thing...\\n\\nepochs =75\\nbatch_size =256\\nkeep_probability=.25\\nprelim training: Epoch 75, CIFAR-10 Batch 1:  Loss= 0.225 Validation Accuracy= 0.596\\nfull training: \\nEpoch 75, CIFAR-10 Batch 1:  Loss= 0.074 Validation Accuracy= 0.715\\nEpoch 75, CIFAR-10 Batch 2:  Loss= 0.114 Validation Accuracy= 0.720\\nEpoch 75, CIFAR-10 Batch 3:  Loss= 0.111 Validation Accuracy= 0.713\\nEpoch 75, CIFAR-10 Batch 4:  Loss= 0.086 Validation Accuracy= 0.718\\nEpoch 75, CIFAR-10 Batch 5:  Loss= 0.046 Validation Accuracy= 0.722\\n\\nAccuracy was still improving so I am going to add more epochs to figure out where it plateaus\\n\\nepochs =150\\nbatch_size =256\\nkeep_probability=.25\\nprelim training:\\nEpoch 92, CIFAR-10 Batch 1:  Loss= 0.038 Validation Accuracy= 0.619\\nEpoch 93, CIFAR-10 Batch 1:  Loss= 0.039 Validation Accuracy= 0.616\\nEpoch 94, CIFAR-10 Batch 1:  Loss= 0.037 Validation Accuracy= 0.614\\nEpoch 95, CIFAR-10 Batch 1:  Loss= 0.032 Validation Accuracy= 0.617\\nEpoch 96, CIFAR-10 Batch 1:  Loss= 0.030 Validation Accuracy= 0.625\\nEpoch 97, CIFAR-10 Batch 1:  Loss= 0.031 Validation Accuracy= 0.621\\nEpoch 98, CIFAR-10 Batch 1:  Loss= 0.030 Validation Accuracy= 0.627\\nEpoch 99, CIFAR-10 Batch 1:  Loss= 0.031 Validation Accuracy= 0.623\\nEpoch 100, CIFAR-10 Batch 1:  Loss= 0.041 Validation Accuracy= 0.608\\nEpoch 101, CIFAR-10 Batch 1:  Loss= 0.024 Validation Accuracy= 0.617\\nEpoch 102, CIFAR-10 Batch 1:  Loss= 0.022 Validation Accuracy= 0.621\\nEpoch 103, CIFAR-10 Batch 1:  Loss= 0.032 Validation Accuracy= 0.604\\nEpoch 104, CIFAR-10 Batch 1:  Loss= 0.026 Validation Accuracy= 0.617\\nEpoch 105, CIFAR-10 Batch 1:  Loss= 0.033 Validation Accuracy= 0.602\\nEpoch 106, CIFAR-10 Batch 1:  Loss= 0.025 Validation Accuracy= 0.612\\nEpoch 107, CIFAR-10 Batch 1:  Loss= 0.024 Validation Accuracy= 0.610\\nEpoch 108, CIFAR-10 Batch 1:  Loss= 0.024 Validation Accuracy= 0.604\\nEpoch 109, CIFAR-10 Batch 1:  Loss= 0.027 Validation Accuracy= 0.593\\n\\n**** Seems that right around 100 epochs is the sweet spot so I am going to set it there\\n\\n'"
      ]
     },
     "execution_count": 15,
     "metadata": {},
     "output_type": "execute_result"
    }
   ],
   "source": [
    "# TODO: Tune Parameters\n",
    "epochs =100\n",
    "batch_size =256\n",
    "keep_probability=.25\n",
    "\n",
    "'''TUNING PROCESS:\n",
    "epochs =10\n",
    "batch_size =256\n",
    "keep_probability=.5--->\n",
    "prelim training: Epoch 10, CIFAR-10 Batch 1:  Loss= 0.929 Validation Accuracy= 0.478\n",
    "\n",
    "epochs =100\n",
    "batch_size =256\n",
    "keep_probability=.5\n",
    "prelim trainig: Epoch 100, CIFAR-10 Batch 1:  Loss= 0.002 Validation Accuracy= 0.602\n",
    "\n",
    "*** Seemed like around 75 epochs the validation stopped improving and just edged around 60% \n",
    "in the PRELIM training sets, so then I started to play with the keep probability more\n",
    "\n",
    "epochs =75\n",
    "batch_size =256\n",
    "keep_probability=.75\n",
    "prelim training: Epoch 75, CIFAR-10 Batch 1:  Loss= 0.001 Validation Accuracy= 0.568\n",
    "\n",
    "epochs =75\n",
    "batch_size =256\n",
    "keep_probability=.25\n",
    "prelim training: Epoch 75, CIFAR-10 Batch 1:  Loss= 0.056 Validation Accuracy= 0.624\n",
    "\n",
    "epochs =75\n",
    "batch_size =256\n",
    "keep_probability=.1\n",
    "prelim training: Epoch 75, CIFAR-10 Batch 1:  Loss= 1.547 Validation Accuracy= 0.380\n",
    "\n",
    "*** This seemed good enough, and all of this training was taking a long time \n",
    "by the time I fiddled around with adding and changing values in different layers\n",
    "so once I got to this point I trained the whole thing...\n",
    "\n",
    "epochs =75\n",
    "batch_size =256\n",
    "keep_probability=.25\n",
    "prelim training: Epoch 75, CIFAR-10 Batch 1:  Loss= 0.225 Validation Accuracy= 0.596\n",
    "full training: \n",
    "Epoch 75, CIFAR-10 Batch 1:  Loss= 0.074 Validation Accuracy= 0.715\n",
    "Epoch 75, CIFAR-10 Batch 2:  Loss= 0.114 Validation Accuracy= 0.720\n",
    "Epoch 75, CIFAR-10 Batch 3:  Loss= 0.111 Validation Accuracy= 0.713\n",
    "Epoch 75, CIFAR-10 Batch 4:  Loss= 0.086 Validation Accuracy= 0.718\n",
    "Epoch 75, CIFAR-10 Batch 5:  Loss= 0.046 Validation Accuracy= 0.722\n",
    "\n",
    "Accuracy was still improving so I am going to add more epochs to figure out where it plateaus\n",
    "\n",
    "epochs =150\n",
    "batch_size =256\n",
    "keep_probability=.25\n",
    "prelim training:\n",
    "...Epoch 92, CIFAR-10 Batch 1:  Loss= 0.038 Validation Accuracy= 0.619\n",
    "Epoch 93, CIFAR-10 Batch 1:  Loss= 0.039 Validation Accuracy= 0.616\n",
    "Epoch 94, CIFAR-10 Batch 1:  Loss= 0.037 Validation Accuracy= 0.614\n",
    "Epoch 95, CIFAR-10 Batch 1:  Loss= 0.032 Validation Accuracy= 0.617\n",
    "Epoch 96, CIFAR-10 Batch 1:  Loss= 0.030 Validation Accuracy= 0.625\n",
    "Epoch 97, CIFAR-10 Batch 1:  Loss= 0.031 Validation Accuracy= 0.621\n",
    "Epoch 98, CIFAR-10 Batch 1:  Loss= 0.030 Validation Accuracy= 0.627\n",
    "Epoch 99, CIFAR-10 Batch 1:  Loss= 0.031 Validation Accuracy= 0.623\n",
    "Epoch 100, CIFAR-10 Batch 1:  Loss= 0.041 Validation Accuracy= 0.608\n",
    "Epoch 101, CIFAR-10 Batch 1:  Loss= 0.024 Validation Accuracy= 0.617\n",
    "Epoch 102, CIFAR-10 Batch 1:  Loss= 0.022 Validation Accuracy= 0.621\n",
    "Epoch 103, CIFAR-10 Batch 1:  Loss= 0.032 Validation Accuracy= 0.604\n",
    "Epoch 104, CIFAR-10 Batch 1:  Loss= 0.026 Validation Accuracy= 0.617\n",
    "Epoch 105, CIFAR-10 Batch 1:  Loss= 0.033 Validation Accuracy= 0.602\n",
    "Epoch 106, CIFAR-10 Batch 1:  Loss= 0.025 Validation Accuracy= 0.612\n",
    "Epoch 107, CIFAR-10 Batch 1:  Loss= 0.024 Validation Accuracy= 0.610\n",
    "Epoch 108, CIFAR-10 Batch 1:  Loss= 0.024 Validation Accuracy= 0.604\n",
    "Epoch 109, CIFAR-10 Batch 1:  Loss= 0.027 Validation Accuracy= 0.593... kept decreasing for the most part\n",
    "\n",
    "**** Seems that right around 100 epochs is the sweet spot so I am going to set it there\n",
    "\n",
    "'''"
   ]
  },
  {
   "cell_type": "markdown",
   "metadata": {
    "deletable": true,
    "editable": true
   },
   "source": [
    "### Train on a Single CIFAR-10 Batch\n",
    "Instead of training the neural network on all the CIFAR-10 batches of data, let's use a single batch. This should save time while you iterate on the model to get a better accuracy.  Once the final validation accuracy is 50% or greater, run the model on all the data in the next section."
   ]
  },
  {
   "cell_type": "code",
   "execution_count": null,
   "metadata": {
    "collapsed": false,
    "deletable": true,
    "editable": true
   },
   "outputs": [
    {
     "name": "stdout",
     "output_type": "stream",
     "text": [
      "Checking the Training on a Single Batch...\n",
      "Epoch  1, CIFAR-10 Batch 1:  Loss= 2.297 Validation Accuracy= 0.160\n",
      "Epoch  2, CIFAR-10 Batch 1:  Loss= 2.242 Validation Accuracy= 0.204\n",
      "Epoch  3, CIFAR-10 Batch 1:  Loss= 2.121 Validation Accuracy= 0.260\n",
      "Epoch  4, CIFAR-10 Batch 1:  Loss= 1.989 Validation Accuracy= 0.287\n",
      "Epoch  5, CIFAR-10 Batch 1:  Loss= 1.995 Validation Accuracy= 0.316\n",
      "Epoch  6, CIFAR-10 Batch 1:  Loss= 1.810 Validation Accuracy= 0.381\n",
      "Epoch  7, CIFAR-10 Batch 1:  Loss= 1.833 Validation Accuracy= 0.387\n",
      "Epoch  8, CIFAR-10 Batch 1:  Loss= 1.730 Validation Accuracy= 0.416\n",
      "Epoch  9, CIFAR-10 Batch 1:  Loss= 1.706 Validation Accuracy= 0.415\n",
      "Epoch 10, CIFAR-10 Batch 1:  Loss= 1.628 Validation Accuracy= 0.432\n",
      "Epoch 11, CIFAR-10 Batch 1:  Loss= 1.572 Validation Accuracy= 0.437\n",
      "Epoch 12, CIFAR-10 Batch 1:  Loss= 1.506 Validation Accuracy= 0.450\n",
      "Epoch 13, CIFAR-10 Batch 1:  Loss= 1.419 Validation Accuracy= 0.458\n",
      "Epoch 14, CIFAR-10 Batch 1:  Loss= 1.368 Validation Accuracy= 0.466\n",
      "Epoch 15, CIFAR-10 Batch 1:  Loss= 1.262 Validation Accuracy= 0.474\n",
      "Epoch 16, CIFAR-10 Batch 1:  Loss= 1.212 Validation Accuracy= 0.482\n",
      "Epoch 17, CIFAR-10 Batch 1:  Loss= 1.275 Validation Accuracy= 0.469\n",
      "Epoch 18, CIFAR-10 Batch 1:  Loss= 1.081 Validation Accuracy= 0.503\n",
      "Epoch 19, CIFAR-10 Batch 1:  Loss= 1.051 Validation Accuracy= 0.512\n",
      "Epoch 20, CIFAR-10 Batch 1:  Loss= 0.975 Validation Accuracy= 0.522\n",
      "Epoch 21, CIFAR-10 Batch 1:  Loss= 0.987 Validation Accuracy= 0.527\n",
      "Epoch 22, CIFAR-10 Batch 1:  Loss= 0.930 Validation Accuracy= 0.526\n",
      "Epoch 23, CIFAR-10 Batch 1:  Loss= 0.893 Validation Accuracy= 0.533\n",
      "Epoch 24, CIFAR-10 Batch 1:  Loss= 0.880 Validation Accuracy= 0.544\n",
      "Epoch 25, CIFAR-10 Batch 1:  Loss= 0.837 Validation Accuracy= 0.547\n",
      "Epoch 26, CIFAR-10 Batch 1:  Loss= 0.830 Validation Accuracy= 0.540\n",
      "Epoch 27, CIFAR-10 Batch 1:  Loss= 0.793 Validation Accuracy= 0.546\n",
      "Epoch 28, CIFAR-10 Batch 1:  Loss= 0.831 Validation Accuracy= 0.526\n",
      "Epoch 29, CIFAR-10 Batch 1:  Loss= 0.781 Validation Accuracy= 0.534\n",
      "Epoch 30, CIFAR-10 Batch 1:  Loss= 0.739 Validation Accuracy= 0.552\n",
      "Epoch 31, CIFAR-10 Batch 1:  Loss= 0.711 Validation Accuracy= 0.552\n",
      "Epoch 32, CIFAR-10 Batch 1:  Loss= 0.676 Validation Accuracy= 0.562\n",
      "Epoch 33, CIFAR-10 Batch 1:  Loss= 0.685 Validation Accuracy= 0.566\n",
      "Epoch 34, CIFAR-10 Batch 1:  Loss= 0.671 Validation Accuracy= 0.562\n",
      "Epoch 35, CIFAR-10 Batch 1:  Loss= 0.628 Validation Accuracy= 0.563\n",
      "Epoch 36, CIFAR-10 Batch 1:  Loss= 0.612 Validation Accuracy= 0.567\n",
      "Epoch 37, CIFAR-10 Batch 1:  Loss= 0.565 Validation Accuracy= 0.557\n",
      "Epoch 38, CIFAR-10 Batch 1:  Loss= 0.531 Validation Accuracy= 0.567\n",
      "Epoch 39, CIFAR-10 Batch 1:  Loss= 0.500 Validation Accuracy= 0.576\n",
      "Epoch 40, CIFAR-10 Batch 1:  Loss= 0.494 Validation Accuracy= 0.583\n",
      "Epoch 41, CIFAR-10 Batch 1:  Loss= 0.490 Validation Accuracy= 0.580\n",
      "Epoch 42, CIFAR-10 Batch 1:  Loss= 0.489 Validation Accuracy= 0.577\n",
      "Epoch 43, CIFAR-10 Batch 1:  Loss= 0.467 Validation Accuracy= 0.586\n",
      "Epoch 44, CIFAR-10 Batch 1:  Loss= 0.438 Validation Accuracy= 0.581\n",
      "Epoch 45, CIFAR-10 Batch 1:  Loss= 0.455 Validation Accuracy= 0.581\n",
      "Epoch 46, CIFAR-10 Batch 1:  Loss= 0.422 Validation Accuracy= 0.585\n",
      "Epoch 47, CIFAR-10 Batch 1:  Loss= 0.405 Validation Accuracy= 0.582\n",
      "Epoch 48, CIFAR-10 Batch 1:  Loss= 0.378 Validation Accuracy= 0.588\n",
      "Epoch 49, CIFAR-10 Batch 1:  Loss= 0.377 Validation Accuracy= 0.575\n",
      "Epoch 50, CIFAR-10 Batch 1:  Loss= 0.359 Validation Accuracy= 0.588\n",
      "Epoch 51, CIFAR-10 Batch 1:  Loss= 0.355 Validation Accuracy= 0.588\n",
      "Epoch 52, CIFAR-10 Batch 1:  Loss= 0.319 Validation Accuracy= 0.598\n",
      "Epoch 53, CIFAR-10 Batch 1:  Loss= 0.289 Validation Accuracy= 0.593\n",
      "Epoch 54, CIFAR-10 Batch 1:  Loss= 0.311 Validation Accuracy= 0.586\n",
      "Epoch 55, CIFAR-10 Batch 1:  Loss= 0.287 Validation Accuracy= 0.573\n",
      "Epoch 56, CIFAR-10 Batch 1:  Loss= 0.272 Validation Accuracy= 0.596\n",
      "Epoch 57, CIFAR-10 Batch 1:  Loss= 0.280 Validation Accuracy= 0.578\n",
      "Epoch 58, CIFAR-10 Batch 1:  Loss= 0.248 Validation Accuracy= 0.595\n",
      "Epoch 59, CIFAR-10 Batch 1:  Loss= 0.264 Validation Accuracy= 0.583\n",
      "Epoch 60, CIFAR-10 Batch 1:  Loss= 0.230 Validation Accuracy= 0.587\n",
      "Epoch 61, CIFAR-10 Batch 1:  Loss= 0.205 Validation Accuracy= 0.600\n",
      "Epoch 62, CIFAR-10 Batch 1:  Loss= 0.206 Validation Accuracy= 0.600\n",
      "Epoch 63, CIFAR-10 Batch 1:  Loss= 0.208 Validation Accuracy= 0.585\n",
      "Epoch 64, CIFAR-10 Batch 1:  Loss= 0.191 Validation Accuracy= 0.604\n",
      "Epoch 65, CIFAR-10 Batch 1:  Loss= 0.202 Validation Accuracy= 0.580\n",
      "Epoch 66, CIFAR-10 Batch 1:  Loss= 0.203 Validation Accuracy= 0.587\n",
      "Epoch 67, CIFAR-10 Batch 1:  Loss= 0.176 Validation Accuracy= 0.587\n",
      "Epoch 68, CIFAR-10 Batch 1:  Loss= 0.166 Validation Accuracy= 0.589\n",
      "Epoch 69, CIFAR-10 Batch 1:  Loss= 0.151 Validation Accuracy= 0.601\n",
      "Epoch 70, CIFAR-10 Batch 1:  Loss= 0.168 Validation Accuracy= 0.584\n",
      "Epoch 71, CIFAR-10 Batch 1:  Loss= 0.139 Validation Accuracy= 0.594\n",
      "Epoch 72, CIFAR-10 Batch 1:  Loss= 0.135 Validation Accuracy= 0.592\n",
      "Epoch 73, CIFAR-10 Batch 1:  Loss= 0.146 Validation Accuracy= 0.571\n",
      "Epoch 74, CIFAR-10 Batch 1:  Loss= 0.137 Validation Accuracy= 0.588\n",
      "Epoch 75, CIFAR-10 Batch 1:  Loss= 0.126 Validation Accuracy= 0.581\n",
      "Epoch 76, CIFAR-10 Batch 1:  Loss= 0.117 Validation Accuracy= 0.608\n",
      "Epoch 77, CIFAR-10 Batch 1:  Loss= 0.101 Validation Accuracy= 0.602\n",
      "Epoch 78, CIFAR-10 Batch 1:  Loss= 0.094 Validation Accuracy= 0.599\n",
      "Epoch 79, CIFAR-10 Batch 1:  Loss= 0.102 Validation Accuracy= 0.604\n",
      "Epoch 80, CIFAR-10 Batch 1:  Loss= 0.096 Validation Accuracy= 0.592\n",
      "Epoch 81, CIFAR-10 Batch 1:  Loss= 0.087 Validation Accuracy= 0.602\n",
      "Epoch 82, CIFAR-10 Batch 1:  Loss= 0.081 Validation Accuracy= 0.600\n",
      "Epoch 83, CIFAR-10 Batch 1:  Loss= 0.083 Validation Accuracy= 0.606\n",
      "Epoch 84, CIFAR-10 Batch 1:  Loss= 0.072 Validation Accuracy= 0.601\n",
      "Epoch 85, CIFAR-10 Batch 1:  Loss= 0.072 Validation Accuracy= 0.611\n",
      "Epoch 86, CIFAR-10 Batch 1:  Loss= 0.073 Validation Accuracy= 0.600\n",
      "Epoch 87, CIFAR-10 Batch 1:  Loss= 0.075 Validation Accuracy= 0.594\n",
      "Epoch 88, CIFAR-10 Batch 1:  Loss= 0.082 Validation Accuracy= 0.599\n",
      "Epoch 89, CIFAR-10 Batch 1:  Loss= 0.064 Validation Accuracy= 0.611\n",
      "Epoch 90, CIFAR-10 Batch 1:  Loss= 0.060 Validation Accuracy= 0.598\n",
      "Epoch 91, CIFAR-10 Batch 1:  Loss= 0.062 Validation Accuracy= 0.597\n",
      "Epoch 92, CIFAR-10 Batch 1:  Loss= 0.057 Validation Accuracy= 0.607\n",
      "Epoch 93, CIFAR-10 Batch 1:  Loss= 0.052 Validation Accuracy= 0.609\n",
      "Epoch 94, CIFAR-10 Batch 1:  Loss= 0.039 Validation Accuracy= 0.608\n",
      "Epoch 95, CIFAR-10 Batch 1:  Loss= 0.040 Validation Accuracy= 0.613\n",
      "Epoch 96, CIFAR-10 Batch 1:  Loss= 0.038 Validation Accuracy= 0.608\n",
      "Epoch 97, CIFAR-10 Batch 1:  Loss= 0.035 Validation Accuracy= 0.607\n",
      "Epoch 98, CIFAR-10 Batch 1:  Loss= 0.035 Validation Accuracy= 0.603\n",
      "Epoch 99, CIFAR-10 Batch 1:  Loss= 0.038 Validation Accuracy= 0.602\n",
      "Epoch 100, CIFAR-10 Batch 1:  Loss= 0.033 Validation Accuracy= 0.614\n"
     ]
    }
   ],
   "source": [
    "\"\"\"\n",
    "DON'T MODIFY ANYTHING IN THIS CELL\n",
    "\"\"\"\n",
    "print('Checking the Training on a Single Batch...')\n",
    "with tf.Session() as sess:\n",
    "    # Initializing the variables\n",
    "    sess.run(tf.global_variables_initializer())\n",
    "    \n",
    "    # Training cycle\n",
    "    for epoch in range(epochs):\n",
    "        batch_i = 1\n",
    "        for batch_features, batch_labels in helper.load_preprocess_training_batch(batch_i, batch_size):\n",
    "            train_neural_network(sess, optimizer, keep_probability, batch_features, batch_labels)\n",
    "        print('Epoch {:>2}, CIFAR-10 Batch {}:  '.format(epoch + 1, batch_i), end='')\n",
    "        print_stats(sess, batch_features, batch_labels, cost, accuracy)"
   ]
  },
  {
   "cell_type": "markdown",
   "metadata": {
    "deletable": true,
    "editable": true
   },
   "source": [
    "### Fully Train the Model\n",
    "Now that you got a good accuracy with a single CIFAR-10 batch, try it with all five batches."
   ]
  },
  {
   "cell_type": "code",
   "execution_count": null,
   "metadata": {
    "collapsed": false,
    "deletable": true,
    "editable": true
   },
   "outputs": [
    {
     "name": "stdout",
     "output_type": "stream",
     "text": [
      "Training...\n",
      "Epoch  1, CIFAR-10 Batch 1:  Loss= 2.299 Validation Accuracy= 0.135\n",
      "Epoch  1, CIFAR-10 Batch 2:  Loss= 2.288 Validation Accuracy= 0.201\n",
      "Epoch  1, CIFAR-10 Batch 3:  Loss= 2.051 Validation Accuracy= 0.227\n",
      "Epoch  1, CIFAR-10 Batch 4:  Loss= 1.913 Validation Accuracy= 0.294\n",
      "Epoch  1, CIFAR-10 Batch 5:  Loss= 1.747 Validation Accuracy= 0.339\n",
      "Epoch  2, CIFAR-10 Batch 1:  Loss= 2.004 Validation Accuracy= 0.353\n",
      "Epoch  2, CIFAR-10 Batch 2:  Loss= 1.805 Validation Accuracy= 0.368\n",
      "Epoch  2, CIFAR-10 Batch 3:  Loss= 1.619 Validation Accuracy= 0.374\n",
      "Epoch  2, CIFAR-10 Batch 4:  Loss= 1.676 Validation Accuracy= 0.384\n",
      "Epoch  2, CIFAR-10 Batch 5:  Loss= 1.586 Validation Accuracy= 0.405\n",
      "Epoch  3, CIFAR-10 Batch 1:  Loss= 1.783 Validation Accuracy= 0.373\n",
      "Epoch  3, CIFAR-10 Batch 2:  Loss= 1.749 Validation Accuracy= 0.403\n",
      "Epoch  3, CIFAR-10 Batch 3:  Loss= 1.492 Validation Accuracy= 0.407\n",
      "Epoch  3, CIFAR-10 Batch 4:  Loss= 1.553 Validation Accuracy= 0.417\n",
      "Epoch  3, CIFAR-10 Batch 5:  Loss= 1.515 Validation Accuracy= 0.423\n",
      "Epoch  4, CIFAR-10 Batch 1:  Loss= 1.622 Validation Accuracy= 0.426\n",
      "Epoch  4, CIFAR-10 Batch 2:  Loss= 1.520 Validation Accuracy= 0.434\n",
      "Epoch  4, CIFAR-10 Batch 3:  Loss= 1.382 Validation Accuracy= 0.445\n",
      "Epoch  4, CIFAR-10 Batch 4:  Loss= 1.487 Validation Accuracy= 0.444\n",
      "Epoch  4, CIFAR-10 Batch 5:  Loss= 1.449 Validation Accuracy= 0.453\n",
      "Epoch  5, CIFAR-10 Batch 1:  Loss= 1.508 Validation Accuracy= 0.453\n",
      "Epoch  5, CIFAR-10 Batch 2:  Loss= 1.417 Validation Accuracy= 0.472\n",
      "Epoch  5, CIFAR-10 Batch 3:  Loss= 1.262 Validation Accuracy= 0.464\n",
      "Epoch  5, CIFAR-10 Batch 4:  Loss= 1.449 Validation Accuracy= 0.463\n",
      "Epoch  5, CIFAR-10 Batch 5:  Loss= 1.314 Validation Accuracy= 0.488\n",
      "Epoch  6, CIFAR-10 Batch 1:  Loss= 1.362 Validation Accuracy= 0.457\n",
      "Epoch  6, CIFAR-10 Batch 2:  Loss= 1.395 Validation Accuracy= 0.503\n",
      "Epoch  6, CIFAR-10 Batch 3:  Loss= 1.171 Validation Accuracy= 0.493\n",
      "Epoch  6, CIFAR-10 Batch 4:  Loss= 1.354 Validation Accuracy= 0.509\n",
      "Epoch  6, CIFAR-10 Batch 5:  Loss= 1.280 Validation Accuracy= 0.478\n",
      "Epoch  7, CIFAR-10 Batch 1:  Loss= 1.285 Validation Accuracy= 0.526\n",
      "Epoch  7, CIFAR-10 Batch 2:  Loss= 1.275 Validation Accuracy= 0.517\n",
      "Epoch  7, CIFAR-10 Batch 3:  Loss= 1.087 Validation Accuracy= 0.524\n",
      "Epoch  7, CIFAR-10 Batch 4:  Loss= 1.323 Validation Accuracy= 0.533\n",
      "Epoch  7, CIFAR-10 Batch 5:  Loss= 1.142 Validation Accuracy= 0.530\n",
      "Epoch  8, CIFAR-10 Batch 1:  Loss= 1.113 Validation Accuracy= 0.497\n",
      "Epoch  8, CIFAR-10 Batch 2:  Loss= 1.236 Validation Accuracy= 0.541\n",
      "Epoch  8, CIFAR-10 Batch 3:  Loss= 1.064 Validation Accuracy= 0.539\n",
      "Epoch  8, CIFAR-10 Batch 4:  Loss= 1.233 Validation Accuracy= 0.540\n",
      "Epoch  8, CIFAR-10 Batch 5:  Loss= 1.164 Validation Accuracy= 0.539\n",
      "Epoch  9, CIFAR-10 Batch 1:  Loss= 1.153 Validation Accuracy= 0.540\n",
      "Epoch  9, CIFAR-10 Batch 2:  Loss= 1.080 Validation Accuracy= 0.546\n",
      "Epoch  9, CIFAR-10 Batch 3:  Loss= 0.973 Validation Accuracy= 0.551\n",
      "Epoch  9, CIFAR-10 Batch 4:  Loss= 1.123 Validation Accuracy= 0.564\n",
      "Epoch  9, CIFAR-10 Batch 5:  Loss= 1.015 Validation Accuracy= 0.558\n",
      "Epoch 10, CIFAR-10 Batch 1:  Loss= 1.026 Validation Accuracy= 0.533\n",
      "Epoch 10, CIFAR-10 Batch 2:  Loss= 1.071 Validation Accuracy= 0.564\n",
      "Epoch 10, CIFAR-10 Batch 3:  Loss= 0.858 Validation Accuracy= 0.565\n",
      "Epoch 10, CIFAR-10 Batch 4:  Loss= 1.037 Validation Accuracy= 0.583\n",
      "Epoch 10, CIFAR-10 Batch 5:  Loss= 1.002 Validation Accuracy= 0.568\n",
      "Epoch 11, CIFAR-10 Batch 1:  Loss= 0.925 Validation Accuracy= 0.578\n",
      "Epoch 11, CIFAR-10 Batch 2:  Loss= 1.058 Validation Accuracy= 0.585\n",
      "Epoch 11, CIFAR-10 Batch 3:  Loss= 0.903 Validation Accuracy= 0.579\n",
      "Epoch 11, CIFAR-10 Batch 4:  Loss= 1.030 Validation Accuracy= 0.583\n",
      "Epoch 11, CIFAR-10 Batch 5:  Loss= 0.952 Validation Accuracy= 0.578\n",
      "Epoch 12, CIFAR-10 Batch 1:  Loss= 0.904 Validation Accuracy= 0.571\n",
      "Epoch 12, CIFAR-10 Batch 2:  Loss= 0.983 Validation Accuracy= 0.591\n",
      "Epoch 12, CIFAR-10 Batch 3:  Loss= 0.775 Validation Accuracy= 0.584\n",
      "Epoch 12, CIFAR-10 Batch 4:  Loss= 0.963 Validation Accuracy= 0.593\n",
      "Epoch 12, CIFAR-10 Batch 5:  Loss= 0.900 Validation Accuracy= 0.591\n",
      "Epoch 13, CIFAR-10 Batch 1:  Loss= 0.840 Validation Accuracy= 0.596\n",
      "Epoch 13, CIFAR-10 Batch 2:  Loss= 0.942 Validation Accuracy= 0.594\n",
      "Epoch 13, CIFAR-10 Batch 3:  Loss= 0.766 Validation Accuracy= 0.597\n",
      "Epoch 13, CIFAR-10 Batch 4:  Loss= 0.918 Validation Accuracy= 0.597\n",
      "Epoch 13, CIFAR-10 Batch 5:  Loss= 0.856 Validation Accuracy= 0.604\n",
      "Epoch 14, CIFAR-10 Batch 1:  Loss= 0.813 Validation Accuracy= 0.579\n",
      "Epoch 14, CIFAR-10 Batch 2:  Loss= 0.893 Validation Accuracy= 0.604\n",
      "Epoch 14, CIFAR-10 Batch 3:  Loss= 0.735 Validation Accuracy= 0.611\n",
      "Epoch 14, CIFAR-10 Batch 4:  Loss= 0.831 Validation Accuracy= 0.615\n",
      "Epoch 14, CIFAR-10 Batch 5:  Loss= 0.781 Validation Accuracy= 0.617\n",
      "Epoch 15, CIFAR-10 Batch 1:  Loss= 0.841 Validation Accuracy= 0.617\n",
      "Epoch 15, CIFAR-10 Batch 2:  Loss= 0.835 Validation Accuracy= 0.617\n",
      "Epoch 15, CIFAR-10 Batch 3:  Loss= 0.739 Validation Accuracy= 0.625\n",
      "Epoch 15, CIFAR-10 Batch 4:  Loss= 0.814 Validation Accuracy= 0.624\n",
      "Epoch 15, CIFAR-10 Batch 5:  Loss= 0.751 Validation Accuracy= 0.628\n",
      "Epoch 16, CIFAR-10 Batch 1:  Loss= 0.731 Validation Accuracy= 0.636\n",
      "Epoch 16, CIFAR-10 Batch 2:  Loss= 0.796 Validation Accuracy= 0.616\n"
     ]
    }
   ],
   "source": [
    "\"\"\"\n",
    "DON'T MODIFY ANYTHING IN THIS CELL\n",
    "\"\"\"\n",
    "save_model_path = './image_classification'\n",
    "\n",
    "print('Training...')\n",
    "with tf.Session() as sess:\n",
    "    # Initializing the variables\n",
    "    sess.run(tf.global_variables_initializer())\n",
    "    \n",
    "    # Training cycle\n",
    "    for epoch in range(epochs):\n",
    "        # Loop over all batches\n",
    "        n_batches = 5\n",
    "        for batch_i in range(1, n_batches + 1):\n",
    "            for batch_features, batch_labels in helper.load_preprocess_training_batch(batch_i, batch_size):\n",
    "                train_neural_network(sess, optimizer, keep_probability, batch_features, batch_labels)\n",
    "            print('Epoch {:>2}, CIFAR-10 Batch {}:  '.format(epoch + 1, batch_i), end='')\n",
    "            print_stats(sess, batch_features, batch_labels, cost, accuracy)\n",
    "            \n",
    "    # Save Model\n",
    "    saver = tf.train.Saver()\n",
    "    save_path = saver.save(sess, save_model_path)"
   ]
  },
  {
   "cell_type": "markdown",
   "metadata": {
    "deletable": true,
    "editable": true
   },
   "source": [
    "# Checkpoint\n",
    "The model has been saved to disk.\n",
    "## Test Model\n",
    "Test your model against the test dataset.  This will be your final accuracy. You should have an accuracy greater than 50%. If you don't, keep tweaking the model architecture and parameters."
   ]
  },
  {
   "cell_type": "code",
   "execution_count": null,
   "metadata": {
    "collapsed": false,
    "deletable": true,
    "editable": true
   },
   "outputs": [],
   "source": [
    "\"\"\"\n",
    "DON'T MODIFY ANYTHING IN THIS CELL\n",
    "\"\"\"\n",
    "%matplotlib inline\n",
    "%config InlineBackend.figure_format = 'retina'\n",
    "\n",
    "import tensorflow as tf\n",
    "import pickle\n",
    "import helper\n",
    "import random\n",
    "\n",
    "# Set batch size if not already set\n",
    "try:\n",
    "    if batch_size:\n",
    "        pass\n",
    "except NameError:\n",
    "    batch_size = 64\n",
    "\n",
    "save_model_path = './image_classification'\n",
    "n_samples = 4\n",
    "top_n_predictions = 3\n",
    "\n",
    "def test_model():\n",
    "    \"\"\"\n",
    "    Test the saved model against the test dataset\n",
    "    \"\"\"\n",
    "\n",
    "    test_features, test_labels = pickle.load(open('preprocess_test.p', mode='rb'))\n",
    "    loaded_graph = tf.Graph()\n",
    "\n",
    "    with tf.Session(graph=loaded_graph) as sess:\n",
    "        # Load model\n",
    "        loader = tf.train.import_meta_graph(save_model_path + '.meta')\n",
    "        loader.restore(sess, save_model_path)\n",
    "\n",
    "        # Get Tensors from loaded model\n",
    "        loaded_x = loaded_graph.get_tensor_by_name('x:0')\n",
    "        loaded_y = loaded_graph.get_tensor_by_name('y:0')\n",
    "        loaded_keep_prob = loaded_graph.get_tensor_by_name('keep_prob:0')\n",
    "        loaded_logits = loaded_graph.get_tensor_by_name('logits:0')\n",
    "        loaded_acc = loaded_graph.get_tensor_by_name('accuracy:0')\n",
    "        \n",
    "        # Get accuracy in batches for memory limitations\n",
    "        test_batch_acc_total = 0\n",
    "        test_batch_count = 0\n",
    "        \n",
    "        for test_feature_batch, test_label_batch in helper.batch_features_labels(test_features, test_labels, batch_size):\n",
    "            test_batch_acc_total += sess.run(\n",
    "                loaded_acc,\n",
    "                feed_dict={loaded_x: test_feature_batch, loaded_y: test_label_batch, loaded_keep_prob: 1.0})\n",
    "            test_batch_count += 1\n",
    "\n",
    "        print('Testing Accuracy: {}\\n'.format(test_batch_acc_total/test_batch_count))\n",
    "\n",
    "        # Print Random Samples\n",
    "        random_test_features, random_test_labels = tuple(zip(*random.sample(list(zip(test_features, test_labels)), n_samples)))\n",
    "        random_test_predictions = sess.run(\n",
    "            tf.nn.top_k(tf.nn.softmax(loaded_logits), top_n_predictions),\n",
    "            feed_dict={loaded_x: random_test_features, loaded_y: random_test_labels, loaded_keep_prob: 1.0})\n",
    "        helper.display_image_predictions(random_test_features, random_test_labels, random_test_predictions)\n",
    "\n",
    "\n",
    "test_model()"
   ]
  },
  {
   "cell_type": "markdown",
   "metadata": {
    "deletable": true,
    "editable": true
   },
   "source": [
    "## Why 50-80% Accuracy?\n",
    "You might be wondering why you can't get an accuracy any higher. First things first, 50% isn't bad for a simple CNN.  Pure guessing would get you 10% accuracy. However, you might notice people are getting scores [well above 80%](http://rodrigob.github.io/are_we_there_yet/build/classification_datasets_results.html#43494641522d3130).  That's because we haven't taught you all there is to know about neural networks. We still need to cover a few more techniques.\n",
    "## Submitting This Project\n",
    "When submitting this project, make sure to run all the cells before saving the notebook.  Save the notebook file as \"dlnd_image_classification.ipynb\" and save it as a HTML file under \"File\" -> \"Download as\".  Include the \"helper.py\" and \"problem_unittests.py\" files in your submission."
   ]
  },
  {
   "cell_type": "code",
   "execution_count": null,
   "metadata": {
    "collapsed": true,
    "deletable": true,
    "editable": true
   },
   "outputs": [],
   "source": []
  }
 ],
 "metadata": {
  "anaconda-cloud": {},
  "kernelspec": {
   "display_name": "Python 3",
   "language": "python",
   "name": "python3"
  },
  "language_info": {
   "codemirror_mode": {
    "name": "ipython",
    "version": 3
   },
   "file_extension": ".py",
   "mimetype": "text/x-python",
   "name": "python",
   "nbconvert_exporter": "python",
   "pygments_lexer": "ipython3",
   "version": "3.5.2"
  },
  "widgets": {
   "state": {},
   "version": "1.1.2"
  }
 },
 "nbformat": 4,
 "nbformat_minor": 0
}
